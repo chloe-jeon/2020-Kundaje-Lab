{
  "nbformat": 4,
  "nbformat_minor": 0,
  "metadata": {
    "colab": {
      "name": "Exon_Intron_UTR-First_Gene.ipynb",
      "provenance": [],
      "authorship_tag": "ABX9TyO0C16aiEysQWpRVDvOB1hj",
      "include_colab_link": true
    },
    "kernelspec": {
      "name": "python3",
      "display_name": "Python 3"
    }
  },
  "cells": [
    {
      "cell_type": "markdown",
      "metadata": {
        "id": "view-in-github",
        "colab_type": "text"
      },
      "source": [
        "<a href=\"https://colab.research.google.com/github/chloe-jeon/2020-Kundaje-Lab/blob/master/Exon_Intron_UTR_First_Gene.ipynb\" target=\"_parent\"><img src=\"https://colab.research.google.com/assets/colab-badge.svg\" alt=\"Open In Colab\"/></a>"
      ]
    },
    {
      "cell_type": "code",
      "metadata": {
        "id": "s3pFyRXfHrk5",
        "colab_type": "code",
        "colab": {}
      },
      "source": [
        "from google.colab import files"
      ],
      "execution_count": null,
      "outputs": []
    },
    {
      "cell_type": "code",
      "metadata": {
        "id": "WZvcC4H7HyX-",
        "colab_type": "code",
        "colab": {
          "resources": {
            "http://localhost:8080/nbextensions/google.colab/files.js": {
              "data": "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",
              "ok": true,
              "headers": [
                [
                  "content-type",
                  "application/javascript"
                ]
              ],
              "status": 200,
              "status_text": ""
            }
          },
          "base_uri": "https://localhost:8080/",
          "height": 362
        },
        "outputId": "45d242f0-1d4b-4efa-ae47-5e4653862f70"
      },
      "source": [
        "genes = files.upload() #protein_coding.gtf"
      ],
      "execution_count": null,
      "outputs": [
        {
          "output_type": "display_data",
          "data": {
            "text/html": [
              "\n",
              "     <input type=\"file\" id=\"files-c9359acf-e134-462a-b04b-0bc094598c10\" name=\"files[]\" multiple disabled\n",
              "        style=\"border:none\" />\n",
              "     <output id=\"result-c9359acf-e134-462a-b04b-0bc094598c10\">\n",
              "      Upload widget is only available when the cell has been executed in the\n",
              "      current browser session. Please rerun this cell to enable.\n",
              "      </output>\n",
              "      <script src=\"/nbextensions/google.colab/files.js\"></script> "
            ],
            "text/plain": [
              "<IPython.core.display.HTML object>"
            ]
          },
          "metadata": {
            "tags": []
          }
        },
        {
          "output_type": "stream",
          "text": [
            "Saving protein_coding.gtf to protein_coding.gtf\n"
          ],
          "name": "stdout"
        },
        {
          "output_type": "error",
          "ename": "KeyboardInterrupt",
          "evalue": "ignored",
          "traceback": [
            "\u001b[0;31m---------------------------------------------------------------------------\u001b[0m",
            "\u001b[0;31mKeyboardInterrupt\u001b[0m                         Traceback (most recent call last)",
            "\u001b[0;32m<ipython-input-2-3533b6aca89e>\u001b[0m in \u001b[0;36m<module>\u001b[0;34m()\u001b[0m\n\u001b[0;32m----> 1\u001b[0;31m \u001b[0mgenes\u001b[0m \u001b[0;34m=\u001b[0m \u001b[0mfiles\u001b[0m\u001b[0;34m.\u001b[0m\u001b[0mupload\u001b[0m\u001b[0;34m(\u001b[0m\u001b[0;34m)\u001b[0m \u001b[0;31m#protein_coding.gtf\u001b[0m\u001b[0;34m\u001b[0m\u001b[0;34m\u001b[0m\u001b[0m\n\u001b[0m",
            "\u001b[0;32m/usr/local/lib/python3.6/dist-packages/google/colab/files.py\u001b[0m in \u001b[0;36mupload\u001b[0;34m()\u001b[0m\n\u001b[1;32m     75\u001b[0m     result = _output.eval_js(\n\u001b[1;32m     76\u001b[0m         'google.colab._files._uploadFilesContinue(\"{output_id}\")'.format(\n\u001b[0;32m---> 77\u001b[0;31m             output_id=output_id))\n\u001b[0m\u001b[1;32m     78\u001b[0m     \u001b[0;32mif\u001b[0m \u001b[0mresult\u001b[0m\u001b[0;34m[\u001b[0m\u001b[0;34m'action'\u001b[0m\u001b[0;34m]\u001b[0m \u001b[0;34m!=\u001b[0m \u001b[0;34m'append'\u001b[0m\u001b[0;34m:\u001b[0m\u001b[0;34m\u001b[0m\u001b[0;34m\u001b[0m\u001b[0m\n\u001b[1;32m     79\u001b[0m       \u001b[0;31m# JS side uses a generator of promises to process all of the files- some\u001b[0m\u001b[0;34m\u001b[0m\u001b[0;34m\u001b[0m\u001b[0;34m\u001b[0m\u001b[0m\n",
            "\u001b[0;32m/usr/local/lib/python3.6/dist-packages/google/colab/output/_js.py\u001b[0m in \u001b[0;36meval_js\u001b[0;34m(script, ignore_result)\u001b[0m\n\u001b[1;32m     37\u001b[0m   \u001b[0;32mif\u001b[0m \u001b[0mignore_result\u001b[0m\u001b[0;34m:\u001b[0m\u001b[0;34m\u001b[0m\u001b[0;34m\u001b[0m\u001b[0m\n\u001b[1;32m     38\u001b[0m     \u001b[0;32mreturn\u001b[0m\u001b[0;34m\u001b[0m\u001b[0;34m\u001b[0m\u001b[0m\n\u001b[0;32m---> 39\u001b[0;31m   \u001b[0;32mreturn\u001b[0m \u001b[0m_message\u001b[0m\u001b[0;34m.\u001b[0m\u001b[0mread_reply_from_input\u001b[0m\u001b[0;34m(\u001b[0m\u001b[0mrequest_id\u001b[0m\u001b[0;34m)\u001b[0m\u001b[0;34m\u001b[0m\u001b[0;34m\u001b[0m\u001b[0m\n\u001b[0m\u001b[1;32m     40\u001b[0m \u001b[0;34m\u001b[0m\u001b[0m\n\u001b[1;32m     41\u001b[0m \u001b[0;34m\u001b[0m\u001b[0m\n",
            "\u001b[0;32m/usr/local/lib/python3.6/dist-packages/google/colab/_message.py\u001b[0m in \u001b[0;36mread_reply_from_input\u001b[0;34m(message_id, timeout_sec)\u001b[0m\n\u001b[1;32m     99\u001b[0m     \u001b[0mreply\u001b[0m \u001b[0;34m=\u001b[0m \u001b[0m_read_next_input_message\u001b[0m\u001b[0;34m(\u001b[0m\u001b[0;34m)\u001b[0m\u001b[0;34m\u001b[0m\u001b[0;34m\u001b[0m\u001b[0m\n\u001b[1;32m    100\u001b[0m     \u001b[0;32mif\u001b[0m \u001b[0mreply\u001b[0m \u001b[0;34m==\u001b[0m \u001b[0m_NOT_READY\u001b[0m \u001b[0;32mor\u001b[0m \u001b[0;32mnot\u001b[0m \u001b[0misinstance\u001b[0m\u001b[0;34m(\u001b[0m\u001b[0mreply\u001b[0m\u001b[0;34m,\u001b[0m \u001b[0mdict\u001b[0m\u001b[0;34m)\u001b[0m\u001b[0;34m:\u001b[0m\u001b[0;34m\u001b[0m\u001b[0;34m\u001b[0m\u001b[0m\n\u001b[0;32m--> 101\u001b[0;31m       \u001b[0mtime\u001b[0m\u001b[0;34m.\u001b[0m\u001b[0msleep\u001b[0m\u001b[0;34m(\u001b[0m\u001b[0;36m0.025\u001b[0m\u001b[0;34m)\u001b[0m\u001b[0;34m\u001b[0m\u001b[0;34m\u001b[0m\u001b[0m\n\u001b[0m\u001b[1;32m    102\u001b[0m       \u001b[0;32mcontinue\u001b[0m\u001b[0;34m\u001b[0m\u001b[0;34m\u001b[0m\u001b[0m\n\u001b[1;32m    103\u001b[0m     if (reply.get('type') == 'colab_reply' and\n",
            "\u001b[0;31mKeyboardInterrupt\u001b[0m: "
          ]
        }
      ]
    },
    {
      "cell_type": "code",
      "metadata": {
        "id": "70_esnCvH7xQ",
        "colab_type": "code",
        "colab": {
          "base_uri": "https://localhost:8080/",
          "height": 360
        },
        "outputId": "5c35b67d-cc8a-4424-8ff1-a0ed58e33f51"
      },
      "source": [
        "!cat protein_coding.gtf | head -n 19 > first_gene.gtf\n",
        "!cat first_gene.gtf"
      ],
      "execution_count": null,
      "outputs": [
        {
          "output_type": "stream",
          "text": [
            "chr1\tHAVANA\tgene\t65419\t71585\t.\t+\t.\tgene_id \"ENSG00000186092.6\"; gene_type \"protein_coding\"; gene_name \"OR4F5\"; level 2; hgnc_id \"HGNC:14825\"; havana_gene \"OTTHUMG00000001094.1\";\n",
            "chr1\tHAVANA\ttranscript\t65419\t71585\t.\t+\t.\tgene_id \"ENSG00000186092.6\"; transcript_id \"ENST00000641515.2\"; gene_type \"protein_coding\"; gene_name \"OR4F5\"; transcript_type \"protein_coding\"; transcript_name \"OR4F5-202\"; level 2; protein_id \"ENSP00000493376.2\"; hgnc_id \"HGNC:14825\"; tag \"RNA_Seq_supported_partial\"; tag \"basic\"; havana_gene \"OTTHUMG00000001094.1\"; havana_transcript \"OTTHUMT00000003223.1\";\n",
            "chr1\tHAVANA\texon\t65419\t65433\t.\t+\t.\tgene_id \"ENSG00000186092.6\"; transcript_id \"ENST00000641515.2\"; gene_type \"protein_coding\"; gene_name \"OR4F5\"; transcript_type \"protein_coding\"; transcript_name \"OR4F5-202\"; exon_number 1; exon_id \"ENSE00003812156.1\"; level 2; protein_id \"ENSP00000493376.2\"; hgnc_id \"HGNC:14825\"; tag \"RNA_Seq_supported_partial\"; tag \"basic\"; havana_gene \"OTTHUMG00000001094.1\"; havana_transcript \"OTTHUMT00000003223.1\";\n",
            "chr1\tHAVANA\texon\t65520\t65573\t.\t+\t.\tgene_id \"ENSG00000186092.6\"; transcript_id \"ENST00000641515.2\"; gene_type \"protein_coding\"; gene_name \"OR4F5\"; transcript_type \"protein_coding\"; transcript_name \"OR4F5-202\"; exon_number 2; exon_id \"ENSE00003813641.1\"; level 2; protein_id \"ENSP00000493376.2\"; hgnc_id \"HGNC:14825\"; tag \"RNA_Seq_supported_partial\"; tag \"basic\"; havana_gene \"OTTHUMG00000001094.1\"; havana_transcript \"OTTHUMT00000003223.1\";\n",
            "chr1\tHAVANA\tCDS\t65565\t65573\t.\t+\t0\tgene_id \"ENSG00000186092.6\"; transcript_id \"ENST00000641515.2\"; gene_type \"protein_coding\"; gene_name \"OR4F5\"; transcript_type \"protein_coding\"; transcript_name \"OR4F5-202\"; exon_number 2; exon_id \"ENSE00003813641.1\"; level 2; protein_id \"ENSP00000493376.2\"; hgnc_id \"HGNC:14825\"; tag \"RNA_Seq_supported_partial\"; tag \"basic\"; havana_gene \"OTTHUMG00000001094.1\"; havana_transcript \"OTTHUMT00000003223.1\";\n",
            "chr1\tHAVANA\tstart_codon\t65565\t65567\t.\t+\t0\tgene_id \"ENSG00000186092.6\"; transcript_id \"ENST00000641515.2\"; gene_type \"protein_coding\"; gene_name \"OR4F5\"; transcript_type \"protein_coding\"; transcript_name \"OR4F5-202\"; exon_number 2; exon_id \"ENSE00003813641.1\"; level 2; protein_id \"ENSP00000493376.2\"; hgnc_id \"HGNC:14825\"; tag \"RNA_Seq_supported_partial\"; tag \"basic\"; havana_gene \"OTTHUMG00000001094.1\"; havana_transcript \"OTTHUMT00000003223.1\";\n",
            "chr1\tHAVANA\texon\t69037\t71585\t.\t+\t.\tgene_id \"ENSG00000186092.6\"; transcript_id \"ENST00000641515.2\"; gene_type \"protein_coding\"; gene_name \"OR4F5\"; transcript_type \"protein_coding\"; transcript_name \"OR4F5-202\"; exon_number 3; exon_id \"ENSE00003813949.1\"; level 2; protein_id \"ENSP00000493376.2\"; hgnc_id \"HGNC:14825\"; tag \"RNA_Seq_supported_partial\"; tag \"basic\"; havana_gene \"OTTHUMG00000001094.1\"; havana_transcript \"OTTHUMT00000003223.1\";\n",
            "chr1\tHAVANA\tCDS\t69037\t70005\t.\t+\t0\tgene_id \"ENSG00000186092.6\"; transcript_id \"ENST00000641515.2\"; gene_type \"protein_coding\"; gene_name \"OR4F5\"; transcript_type \"protein_coding\"; transcript_name \"OR4F5-202\"; exon_number 3; exon_id \"ENSE00003813949.1\"; level 2; protein_id \"ENSP00000493376.2\"; hgnc_id \"HGNC:14825\"; tag \"RNA_Seq_supported_partial\"; tag \"basic\"; havana_gene \"OTTHUMG00000001094.1\"; havana_transcript \"OTTHUMT00000003223.1\";\n",
            "chr1\tHAVANA\tstop_codon\t70006\t70008\t.\t+\t0\tgene_id \"ENSG00000186092.6\"; transcript_id \"ENST00000641515.2\"; gene_type \"protein_coding\"; gene_name \"OR4F5\"; transcript_type \"protein_coding\"; transcript_name \"OR4F5-202\"; exon_number 3; exon_id \"ENSE00003813949.1\"; level 2; protein_id \"ENSP00000493376.2\"; hgnc_id \"HGNC:14825\"; tag \"RNA_Seq_supported_partial\"; tag \"basic\"; havana_gene \"OTTHUMG00000001094.1\"; havana_transcript \"OTTHUMT00000003223.1\";\n",
            "chr1\tHAVANA\tUTR\t65419\t65433\t.\t+\t.\tgene_id \"ENSG00000186092.6\"; transcript_id \"ENST00000641515.2\"; gene_type \"protein_coding\"; gene_name \"OR4F5\"; transcript_type \"protein_coding\"; transcript_name \"OR4F5-202\"; exon_number 1; exon_id \"ENSE00003812156.1\"; level 2; protein_id \"ENSP00000493376.2\"; hgnc_id \"HGNC:14825\"; tag \"RNA_Seq_supported_partial\"; tag \"basic\"; havana_gene \"OTTHUMG00000001094.1\"; havana_transcript \"OTTHUMT00000003223.1\";\n",
            "chr1\tHAVANA\tUTR\t65520\t65564\t.\t+\t.\tgene_id \"ENSG00000186092.6\"; transcript_id \"ENST00000641515.2\"; gene_type \"protein_coding\"; gene_name \"OR4F5\"; transcript_type \"protein_coding\"; transcript_name \"OR4F5-202\"; exon_number 2; exon_id \"ENSE00003813641.1\"; level 2; protein_id \"ENSP00000493376.2\"; hgnc_id \"HGNC:14825\"; tag \"RNA_Seq_supported_partial\"; tag \"basic\"; havana_gene \"OTTHUMG00000001094.1\"; havana_transcript \"OTTHUMT00000003223.1\";\n",
            "chr1\tHAVANA\tUTR\t70006\t71585\t.\t+\t.\tgene_id \"ENSG00000186092.6\"; transcript_id \"ENST00000641515.2\"; gene_type \"protein_coding\"; gene_name \"OR4F5\"; transcript_type \"protein_coding\"; transcript_name \"OR4F5-202\"; exon_number 3; exon_id \"ENSE00003813949.1\"; level 2; protein_id \"ENSP00000493376.2\"; hgnc_id \"HGNC:14825\"; tag \"RNA_Seq_supported_partial\"; tag \"basic\"; havana_gene \"OTTHUMG00000001094.1\"; havana_transcript \"OTTHUMT00000003223.1\";\n",
            "chr1\tENSEMBL\ttranscript\t69055\t70108\t.\t+\t.\tgene_id \"ENSG00000186092.6\"; transcript_id \"ENST00000335137.4\"; gene_type \"protein_coding\"; gene_name \"OR4F5\"; transcript_type \"protein_coding\"; transcript_name \"OR4F5-201\"; level 3; protein_id \"ENSP00000334393.3\"; transcript_support_level \"NA\"; hgnc_id \"HGNC:14825\"; tag \"basic\"; tag \"appris_principal_1\"; tag \"CCDS\"; ccdsid \"CCDS30547.1\"; havana_gene \"OTTHUMG00000001094.1\";\n",
            "chr1\tENSEMBL\texon\t69055\t70108\t.\t+\t.\tgene_id \"ENSG00000186092.6\"; transcript_id \"ENST00000335137.4\"; gene_type \"protein_coding\"; gene_name \"OR4F5\"; transcript_type \"protein_coding\"; transcript_name \"OR4F5-201\"; exon_number 1; exon_id \"ENSE00002319515.2\"; level 3; protein_id \"ENSP00000334393.3\"; transcript_support_level \"NA\"; hgnc_id \"HGNC:14825\"; tag \"basic\"; tag \"appris_principal_1\"; tag \"CCDS\"; ccdsid \"CCDS30547.1\"; havana_gene \"OTTHUMG00000001094.1\";\n",
            "chr1\tENSEMBL\tCDS\t69091\t70005\t.\t+\t0\tgene_id \"ENSG00000186092.6\"; transcript_id \"ENST00000335137.4\"; gene_type \"protein_coding\"; gene_name \"OR4F5\"; transcript_type \"protein_coding\"; transcript_name \"OR4F5-201\"; exon_number 1; exon_id \"ENSE00002319515.2\"; level 3; protein_id \"ENSP00000334393.3\"; transcript_support_level \"NA\"; hgnc_id \"HGNC:14825\"; tag \"basic\"; tag \"appris_principal_1\"; tag \"CCDS\"; ccdsid \"CCDS30547.1\"; havana_gene \"OTTHUMG00000001094.1\";\n",
            "chr1\tENSEMBL\tstart_codon\t69091\t69093\t.\t+\t0\tgene_id \"ENSG00000186092.6\"; transcript_id \"ENST00000335137.4\"; gene_type \"protein_coding\"; gene_name \"OR4F5\"; transcript_type \"protein_coding\"; transcript_name \"OR4F5-201\"; exon_number 1; exon_id \"ENSE00002319515.2\"; level 3; protein_id \"ENSP00000334393.3\"; transcript_support_level \"NA\"; hgnc_id \"HGNC:14825\"; tag \"basic\"; tag \"appris_principal_1\"; tag \"CCDS\"; ccdsid \"CCDS30547.1\"; havana_gene \"OTTHUMG00000001094.1\";\n",
            "chr1\tENSEMBL\tstop_codon\t70006\t70008\t.\t+\t0\tgene_id \"ENSG00000186092.6\"; transcript_id \"ENST00000335137.4\"; gene_type \"protein_coding\"; gene_name \"OR4F5\"; transcript_type \"protein_coding\"; transcript_name \"OR4F5-201\"; exon_number 1; exon_id \"ENSE00002319515.2\"; level 3; protein_id \"ENSP00000334393.3\"; transcript_support_level \"NA\"; hgnc_id \"HGNC:14825\"; tag \"basic\"; tag \"appris_principal_1\"; tag \"CCDS\"; ccdsid \"CCDS30547.1\"; havana_gene \"OTTHUMG00000001094.1\";\n",
            "chr1\tENSEMBL\tUTR\t69055\t69090\t.\t+\t.\tgene_id \"ENSG00000186092.6\"; transcript_id \"ENST00000335137.4\"; gene_type \"protein_coding\"; gene_name \"OR4F5\"; transcript_type \"protein_coding\"; transcript_name \"OR4F5-201\"; exon_number 1; exon_id \"ENSE00002319515.2\"; level 3; protein_id \"ENSP00000334393.3\"; transcript_support_level \"NA\"; hgnc_id \"HGNC:14825\"; tag \"basic\"; tag \"appris_principal_1\"; tag \"CCDS\"; ccdsid \"CCDS30547.1\"; havana_gene \"OTTHUMG00000001094.1\";\n",
            "chr1\tENSEMBL\tUTR\t70006\t70108\t.\t+\t.\tgene_id \"ENSG00000186092.6\"; transcript_id \"ENST00000335137.4\"; gene_type \"protein_coding\"; gene_name \"OR4F5\"; transcript_type \"protein_coding\"; transcript_name \"OR4F5-201\"; exon_number 1; exon_id \"ENSE00002319515.2\"; level 3; protein_id \"ENSP00000334393.3\"; transcript_support_level \"NA\"; hgnc_id \"HGNC:14825\"; tag \"basic\"; tag \"appris_principal_1\"; tag \"CCDS\"; ccdsid \"CCDS30547.1\"; havana_gene \"OTTHUMG00000001094.1\";\n"
          ],
          "name": "stdout"
        }
      ]
    },
    {
      "cell_type": "code",
      "metadata": {
        "id": "0z2qJhDfIDBX",
        "colab_type": "code",
        "colab": {
          "base_uri": "https://localhost:8080/",
          "height": 377
        },
        "outputId": "cda94d8b-43a3-4170-dda4-5e650ace95ce"
      },
      "source": [
        "file = open('first_gene.gtf')\n",
        "first_gene = file.read()\n",
        "print(first_gene)"
      ],
      "execution_count": null,
      "outputs": [
        {
          "output_type": "stream",
          "text": [
            "chr1\tHAVANA\tgene\t65419\t71585\t.\t+\t.\tgene_id \"ENSG00000186092.6\"; gene_type \"protein_coding\"; gene_name \"OR4F5\"; level 2; hgnc_id \"HGNC:14825\"; havana_gene \"OTTHUMG00000001094.1\";\n",
            "chr1\tHAVANA\ttranscript\t65419\t71585\t.\t+\t.\tgene_id \"ENSG00000186092.6\"; transcript_id \"ENST00000641515.2\"; gene_type \"protein_coding\"; gene_name \"OR4F5\"; transcript_type \"protein_coding\"; transcript_name \"OR4F5-202\"; level 2; protein_id \"ENSP00000493376.2\"; hgnc_id \"HGNC:14825\"; tag \"RNA_Seq_supported_partial\"; tag \"basic\"; havana_gene \"OTTHUMG00000001094.1\"; havana_transcript \"OTTHUMT00000003223.1\";\n",
            "chr1\tHAVANA\texon\t65419\t65433\t.\t+\t.\tgene_id \"ENSG00000186092.6\"; transcript_id \"ENST00000641515.2\"; gene_type \"protein_coding\"; gene_name \"OR4F5\"; transcript_type \"protein_coding\"; transcript_name \"OR4F5-202\"; exon_number 1; exon_id \"ENSE00003812156.1\"; level 2; protein_id \"ENSP00000493376.2\"; hgnc_id \"HGNC:14825\"; tag \"RNA_Seq_supported_partial\"; tag \"basic\"; havana_gene \"OTTHUMG00000001094.1\"; havana_transcript \"OTTHUMT00000003223.1\";\n",
            "chr1\tHAVANA\texon\t65520\t65573\t.\t+\t.\tgene_id \"ENSG00000186092.6\"; transcript_id \"ENST00000641515.2\"; gene_type \"protein_coding\"; gene_name \"OR4F5\"; transcript_type \"protein_coding\"; transcript_name \"OR4F5-202\"; exon_number 2; exon_id \"ENSE00003813641.1\"; level 2; protein_id \"ENSP00000493376.2\"; hgnc_id \"HGNC:14825\"; tag \"RNA_Seq_supported_partial\"; tag \"basic\"; havana_gene \"OTTHUMG00000001094.1\"; havana_transcript \"OTTHUMT00000003223.1\";\n",
            "chr1\tHAVANA\tCDS\t65565\t65573\t.\t+\t0\tgene_id \"ENSG00000186092.6\"; transcript_id \"ENST00000641515.2\"; gene_type \"protein_coding\"; gene_name \"OR4F5\"; transcript_type \"protein_coding\"; transcript_name \"OR4F5-202\"; exon_number 2; exon_id \"ENSE00003813641.1\"; level 2; protein_id \"ENSP00000493376.2\"; hgnc_id \"HGNC:14825\"; tag \"RNA_Seq_supported_partial\"; tag \"basic\"; havana_gene \"OTTHUMG00000001094.1\"; havana_transcript \"OTTHUMT00000003223.1\";\n",
            "chr1\tHAVANA\tstart_codon\t65565\t65567\t.\t+\t0\tgene_id \"ENSG00000186092.6\"; transcript_id \"ENST00000641515.2\"; gene_type \"protein_coding\"; gene_name \"OR4F5\"; transcript_type \"protein_coding\"; transcript_name \"OR4F5-202\"; exon_number 2; exon_id \"ENSE00003813641.1\"; level 2; protein_id \"ENSP00000493376.2\"; hgnc_id \"HGNC:14825\"; tag \"RNA_Seq_supported_partial\"; tag \"basic\"; havana_gene \"OTTHUMG00000001094.1\"; havana_transcript \"OTTHUMT00000003223.1\";\n",
            "chr1\tHAVANA\texon\t69037\t71585\t.\t+\t.\tgene_id \"ENSG00000186092.6\"; transcript_id \"ENST00000641515.2\"; gene_type \"protein_coding\"; gene_name \"OR4F5\"; transcript_type \"protein_coding\"; transcript_name \"OR4F5-202\"; exon_number 3; exon_id \"ENSE00003813949.1\"; level 2; protein_id \"ENSP00000493376.2\"; hgnc_id \"HGNC:14825\"; tag \"RNA_Seq_supported_partial\"; tag \"basic\"; havana_gene \"OTTHUMG00000001094.1\"; havana_transcript \"OTTHUMT00000003223.1\";\n",
            "chr1\tHAVANA\tCDS\t69037\t70005\t.\t+\t0\tgene_id \"ENSG00000186092.6\"; transcript_id \"ENST00000641515.2\"; gene_type \"protein_coding\"; gene_name \"OR4F5\"; transcript_type \"protein_coding\"; transcript_name \"OR4F5-202\"; exon_number 3; exon_id \"ENSE00003813949.1\"; level 2; protein_id \"ENSP00000493376.2\"; hgnc_id \"HGNC:14825\"; tag \"RNA_Seq_supported_partial\"; tag \"basic\"; havana_gene \"OTTHUMG00000001094.1\"; havana_transcript \"OTTHUMT00000003223.1\";\n",
            "chr1\tHAVANA\tstop_codon\t70006\t70008\t.\t+\t0\tgene_id \"ENSG00000186092.6\"; transcript_id \"ENST00000641515.2\"; gene_type \"protein_coding\"; gene_name \"OR4F5\"; transcript_type \"protein_coding\"; transcript_name \"OR4F5-202\"; exon_number 3; exon_id \"ENSE00003813949.1\"; level 2; protein_id \"ENSP00000493376.2\"; hgnc_id \"HGNC:14825\"; tag \"RNA_Seq_supported_partial\"; tag \"basic\"; havana_gene \"OTTHUMG00000001094.1\"; havana_transcript \"OTTHUMT00000003223.1\";\n",
            "chr1\tHAVANA\tUTR\t65419\t65433\t.\t+\t.\tgene_id \"ENSG00000186092.6\"; transcript_id \"ENST00000641515.2\"; gene_type \"protein_coding\"; gene_name \"OR4F5\"; transcript_type \"protein_coding\"; transcript_name \"OR4F5-202\"; exon_number 1; exon_id \"ENSE00003812156.1\"; level 2; protein_id \"ENSP00000493376.2\"; hgnc_id \"HGNC:14825\"; tag \"RNA_Seq_supported_partial\"; tag \"basic\"; havana_gene \"OTTHUMG00000001094.1\"; havana_transcript \"OTTHUMT00000003223.1\";\n",
            "chr1\tHAVANA\tUTR\t65520\t65564\t.\t+\t.\tgene_id \"ENSG00000186092.6\"; transcript_id \"ENST00000641515.2\"; gene_type \"protein_coding\"; gene_name \"OR4F5\"; transcript_type \"protein_coding\"; transcript_name \"OR4F5-202\"; exon_number 2; exon_id \"ENSE00003813641.1\"; level 2; protein_id \"ENSP00000493376.2\"; hgnc_id \"HGNC:14825\"; tag \"RNA_Seq_supported_partial\"; tag \"basic\"; havana_gene \"OTTHUMG00000001094.1\"; havana_transcript \"OTTHUMT00000003223.1\";\n",
            "chr1\tHAVANA\tUTR\t70006\t71585\t.\t+\t.\tgene_id \"ENSG00000186092.6\"; transcript_id \"ENST00000641515.2\"; gene_type \"protein_coding\"; gene_name \"OR4F5\"; transcript_type \"protein_coding\"; transcript_name \"OR4F5-202\"; exon_number 3; exon_id \"ENSE00003813949.1\"; level 2; protein_id \"ENSP00000493376.2\"; hgnc_id \"HGNC:14825\"; tag \"RNA_Seq_supported_partial\"; tag \"basic\"; havana_gene \"OTTHUMG00000001094.1\"; havana_transcript \"OTTHUMT00000003223.1\";\n",
            "chr1\tENSEMBL\ttranscript\t69055\t70108\t.\t+\t.\tgene_id \"ENSG00000186092.6\"; transcript_id \"ENST00000335137.4\"; gene_type \"protein_coding\"; gene_name \"OR4F5\"; transcript_type \"protein_coding\"; transcript_name \"OR4F5-201\"; level 3; protein_id \"ENSP00000334393.3\"; transcript_support_level \"NA\"; hgnc_id \"HGNC:14825\"; tag \"basic\"; tag \"appris_principal_1\"; tag \"CCDS\"; ccdsid \"CCDS30547.1\"; havana_gene \"OTTHUMG00000001094.1\";\n",
            "chr1\tENSEMBL\texon\t69055\t70108\t.\t+\t.\tgene_id \"ENSG00000186092.6\"; transcript_id \"ENST00000335137.4\"; gene_type \"protein_coding\"; gene_name \"OR4F5\"; transcript_type \"protein_coding\"; transcript_name \"OR4F5-201\"; exon_number 1; exon_id \"ENSE00002319515.2\"; level 3; protein_id \"ENSP00000334393.3\"; transcript_support_level \"NA\"; hgnc_id \"HGNC:14825\"; tag \"basic\"; tag \"appris_principal_1\"; tag \"CCDS\"; ccdsid \"CCDS30547.1\"; havana_gene \"OTTHUMG00000001094.1\";\n",
            "chr1\tENSEMBL\tCDS\t69091\t70005\t.\t+\t0\tgene_id \"ENSG00000186092.6\"; transcript_id \"ENST00000335137.4\"; gene_type \"protein_coding\"; gene_name \"OR4F5\"; transcript_type \"protein_coding\"; transcript_name \"OR4F5-201\"; exon_number 1; exon_id \"ENSE00002319515.2\"; level 3; protein_id \"ENSP00000334393.3\"; transcript_support_level \"NA\"; hgnc_id \"HGNC:14825\"; tag \"basic\"; tag \"appris_principal_1\"; tag \"CCDS\"; ccdsid \"CCDS30547.1\"; havana_gene \"OTTHUMG00000001094.1\";\n",
            "chr1\tENSEMBL\tstart_codon\t69091\t69093\t.\t+\t0\tgene_id \"ENSG00000186092.6\"; transcript_id \"ENST00000335137.4\"; gene_type \"protein_coding\"; gene_name \"OR4F5\"; transcript_type \"protein_coding\"; transcript_name \"OR4F5-201\"; exon_number 1; exon_id \"ENSE00002319515.2\"; level 3; protein_id \"ENSP00000334393.3\"; transcript_support_level \"NA\"; hgnc_id \"HGNC:14825\"; tag \"basic\"; tag \"appris_principal_1\"; tag \"CCDS\"; ccdsid \"CCDS30547.1\"; havana_gene \"OTTHUMG00000001094.1\";\n",
            "chr1\tENSEMBL\tstop_codon\t70006\t70008\t.\t+\t0\tgene_id \"ENSG00000186092.6\"; transcript_id \"ENST00000335137.4\"; gene_type \"protein_coding\"; gene_name \"OR4F5\"; transcript_type \"protein_coding\"; transcript_name \"OR4F5-201\"; exon_number 1; exon_id \"ENSE00002319515.2\"; level 3; protein_id \"ENSP00000334393.3\"; transcript_support_level \"NA\"; hgnc_id \"HGNC:14825\"; tag \"basic\"; tag \"appris_principal_1\"; tag \"CCDS\"; ccdsid \"CCDS30547.1\"; havana_gene \"OTTHUMG00000001094.1\";\n",
            "chr1\tENSEMBL\tUTR\t69055\t69090\t.\t+\t.\tgene_id \"ENSG00000186092.6\"; transcript_id \"ENST00000335137.4\"; gene_type \"protein_coding\"; gene_name \"OR4F5\"; transcript_type \"protein_coding\"; transcript_name \"OR4F5-201\"; exon_number 1; exon_id \"ENSE00002319515.2\"; level 3; protein_id \"ENSP00000334393.3\"; transcript_support_level \"NA\"; hgnc_id \"HGNC:14825\"; tag \"basic\"; tag \"appris_principal_1\"; tag \"CCDS\"; ccdsid \"CCDS30547.1\"; havana_gene \"OTTHUMG00000001094.1\";\n",
            "chr1\tENSEMBL\tUTR\t70006\t70108\t.\t+\t.\tgene_id \"ENSG00000186092.6\"; transcript_id \"ENST00000335137.4\"; gene_type \"protein_coding\"; gene_name \"OR4F5\"; transcript_type \"protein_coding\"; transcript_name \"OR4F5-201\"; exon_number 1; exon_id \"ENSE00002319515.2\"; level 3; protein_id \"ENSP00000334393.3\"; transcript_support_level \"NA\"; hgnc_id \"HGNC:14825\"; tag \"basic\"; tag \"appris_principal_1\"; tag \"CCDS\"; ccdsid \"CCDS30547.1\"; havana_gene \"OTTHUMG00000001094.1\";\n",
            "\n"
          ],
          "name": "stdout"
        }
      ]
    },
    {
      "cell_type": "code",
      "metadata": {
        "id": "alTN5YcVIFk2",
        "colab_type": "code",
        "colab": {
          "base_uri": "https://localhost:8080/",
          "height": 54
        },
        "outputId": "cdf7a730-68ab-47a0-9c18-923bc681ed88"
      },
      "source": [
        "!awk -v OFS=\"\\t\" '{print $1, $3, $4, $5}' first_gene.gtf | awk -v OFS=\"\\t\" '{if ($2 == \"transcript\" || $2 == \"exon\" || $2 == \"CDS\") print $1, $2, $3, $4}' > first_gene_transcripts.bed\n",
        "f = open('first_gene_transcripts.bed')\n",
        "first_gene_transcripts = f.readlines()\n",
        "print(first_gene_transcripts)\n",
        "\n",
        "#I'm assuming that any part of an exon that isn't CDS is start/end UTR"
      ],
      "execution_count": null,
      "outputs": [
        {
          "output_type": "stream",
          "text": [
            "['chr1\\ttranscript\\t65419\\t71585\\n', 'chr1\\texon\\t65419\\t65433\\n', 'chr1\\texon\\t65520\\t65573\\n', 'chr1\\tCDS\\t65565\\t65573\\n', 'chr1\\texon\\t69037\\t71585\\n', 'chr1\\tCDS\\t69037\\t70005\\n', 'chr1\\ttranscript\\t69055\\t70108\\n', 'chr1\\texon\\t69055\\t70108\\n', 'chr1\\tCDS\\t69091\\t70005\\n']\n"
          ],
          "name": "stdout"
        }
      ]
    },
    {
      "cell_type": "code",
      "metadata": {
        "id": "t4RUJkpSIJGf",
        "colab_type": "code",
        "colab": {
          "base_uri": "https://localhost:8080/",
          "height": 170
        },
        "outputId": "e876bc4c-c799-42e1-95f0-6f2485b62f9d"
      },
      "source": [
        "!cat first_gene_transcripts.bed"
      ],
      "execution_count": null,
      "outputs": [
        {
          "output_type": "stream",
          "text": [
            "chr1\ttranscript\t65419\t71585\n",
            "chr1\texon\t65419\t65433\n",
            "chr1\texon\t65520\t65573\n",
            "chr1\tCDS\t65565\t65573\n",
            "chr1\texon\t69037\t71585\n",
            "chr1\tCDS\t69037\t70005\n",
            "chr1\ttranscript\t69055\t70108\n",
            "chr1\texon\t69055\t70108\n",
            "chr1\tCDS\t69091\t70005\n"
          ],
          "name": "stdout"
        }
      ]
    },
    {
      "cell_type": "code",
      "metadata": {
        "id": "2aqpgaSMJ0Yz",
        "colab_type": "code",
        "colab": {
          "base_uri": "https://localhost:8080/",
          "height": 119
        },
        "outputId": "ddc36c3f-fab3-42b7-90a0-dadb4d71b2b0"
      },
      "source": [
        "#make a 4D nested list\n",
        "#[[65419, 7185, [65419, 65433], [65520, 65573, [65565, 65573]], [69037, 71585, [69037, 70005]]], [69055, 70108, [69055, 70108, [69091, 70005]]]]\n",
        "#[transcript1   exon1---------  exon2----------==============-  exon3----------==============-|  transcript2    exon1----------==============-|]\n",
        "\n",
        "transcripts_list = []\n",
        "tlist_index = -1\n",
        "elist_index = -1\n",
        "for x in first_gene_transcripts:\n",
        "  temp = x.split()\n",
        "  if (temp[1] == 'transcript'):\n",
        "    tlist_index += 1\n",
        "    elist_index = -1\n",
        "    transcripts_list.append([int(temp[2]), int(temp[3])])\n",
        "  elif (temp[1] == 'exon'):\n",
        "    elist_index += 1\n",
        "    transcripts_list[tlist_index].append([int(temp[2]), int(temp[3])])\n",
        "  elif (temp[1] == 'CDS'):\n",
        "    transcripts_list[tlist_index][elist_index+2].append([int(temp[2]), int(temp[3])])\n",
        "transcripts_list"
      ],
      "execution_count": null,
      "outputs": [
        {
          "output_type": "execute_result",
          "data": {
            "text/plain": [
              "[[65419,\n",
              "  71585,\n",
              "  [65419, 65433],\n",
              "  [65520, 65573, [65565, 65573]],\n",
              "  [69037, 71585, [69037, 70005]]],\n",
              " [69055, 70108, [69055, 70108, [69091, 70005]]]]"
            ]
          },
          "metadata": {
            "tags": []
          },
          "execution_count": 21
        }
      ]
    },
    {
      "cell_type": "code",
      "metadata": {
        "id": "QEXPhnOHqHOx",
        "colab_type": "code",
        "colab": {}
      },
      "source": [
        "#transcripts_list = [[65419, 71585, [65419, 65433], [65520, 65573, [65565, 65573]], [69037, 71585, [69037, 70005]]], [69055, 70108, [69055, 70108, [69091, 70005]]]]"
      ],
      "execution_count": null,
      "outputs": []
    },
    {
      "cell_type": "code",
      "metadata": {
        "id": "Do3P1talOGFQ",
        "colab_type": "code",
        "colab": {
          "base_uri": "https://localhost:8080/",
          "height": 323
        },
        "outputId": "28fceba3-7439-4e03-91e1-1c49210b9b81"
      },
      "source": [
        "endpoints = []\n",
        "for x in first_gene_transcripts:\n",
        "  endpoints.append(int(x.split()[2]))\n",
        "  endpoints.append(int(x.split()[3]))\n",
        "endpoints"
      ],
      "execution_count": null,
      "outputs": [
        {
          "output_type": "execute_result",
          "data": {
            "text/plain": [
              "[65419,\n",
              " 71585,\n",
              " 65419,\n",
              " 65433,\n",
              " 65520,\n",
              " 65573,\n",
              " 65565,\n",
              " 65573,\n",
              " 69037,\n",
              " 71585,\n",
              " 69037,\n",
              " 70005,\n",
              " 69055,\n",
              " 70108,\n",
              " 69055,\n",
              " 70108,\n",
              " 69091,\n",
              " 70005]"
            ]
          },
          "metadata": {
            "tags": []
          },
          "execution_count": 22
        }
      ]
    },
    {
      "cell_type": "code",
      "metadata": {
        "id": "Nest4VMFOOXX",
        "colab_type": "code",
        "colab": {
          "base_uri": "https://localhost:8080/",
          "height": 34
        },
        "outputId": "ca36b889-a10c-47fd-9069-8751d6eef1a3"
      },
      "source": [
        "endpoints = list(dict.fromkeys(endpoints))\n",
        "endpoints.sort()\n",
        "endpoints"
      ],
      "execution_count": null,
      "outputs": [
        {
          "output_type": "execute_result",
          "data": {
            "text/plain": [
              "[65419, 65433, 65520, 65565, 65573, 69037, 69055, 69091, 70005, 70108, 71585]"
            ]
          },
          "metadata": {
            "tags": []
          },
          "execution_count": 23
        }
      ]
    },
    {
      "cell_type": "code",
      "metadata": {
        "id": "HULW9vJqqD8F",
        "colab_type": "code",
        "colab": {}
      },
      "source": [
        "#[65419, 65433, 65520, 65565, 65573, 69037, 69055, 69091, 70005, 70108, 71585]"
      ],
      "execution_count": null,
      "outputs": []
    },
    {
      "cell_type": "code",
      "metadata": {
        "id": "RuWFH4J1OUMy",
        "colab_type": "code",
        "colab": {
          "base_uri": "https://localhost:8080/",
          "height": 187
        },
        "outputId": "c895e687-043b-48db-cc3b-55f0cad0edcf"
      },
      "source": [
        "#make a list with segment start point, segment end point, \n",
        "#number CDS, number start UTR, number end UTR, number intron, \n",
        "#percent CDS, percent start UTR, percent end UTR, percent intron\n",
        "#note: number columns are 0, percent columns should be blank for now (placeholder 0)\n",
        "#note: will turn this into a bed file later\n",
        "\n",
        "segments_list = []\n",
        "\n",
        "for i in range(int(len(endpoints) -1)):\n",
        "  segments_list.append([endpoints[i], endpoints[i + 1], 0, 0, 0, 0, 0, 0, 0, 0])\n",
        "segments_list"
      ],
      "execution_count": null,
      "outputs": [
        {
          "output_type": "execute_result",
          "data": {
            "text/plain": [
              "[[65419, 65433, 0, 0, 0, 0, 0, 0, 0, 0],\n",
              " [65433, 65520, 0, 0, 0, 0, 0, 0, 0, 0],\n",
              " [65520, 65565, 0, 0, 0, 0, 0, 0, 0, 0],\n",
              " [65565, 65573, 0, 0, 0, 0, 0, 0, 0, 0],\n",
              " [65573, 69037, 0, 0, 0, 0, 0, 0, 0, 0],\n",
              " [69037, 69055, 0, 0, 0, 0, 0, 0, 0, 0],\n",
              " [69055, 69091, 0, 0, 0, 0, 0, 0, 0, 0],\n",
              " [69091, 70005, 0, 0, 0, 0, 0, 0, 0, 0],\n",
              " [70005, 70108, 0, 0, 0, 0, 0, 0, 0, 0],\n",
              " [70108, 71585, 0, 0, 0, 0, 0, 0, 0, 0]]"
            ]
          },
          "metadata": {
            "tags": []
          },
          "execution_count": 2
        }
      ]
    },
    {
      "cell_type": "code",
      "metadata": {
        "id": "xYXiv0pOOVaM",
        "colab_type": "code",
        "colab": {}
      },
      "source": [
        "#for each segment (a.k.a. item in list from previous cell):\n",
        "###pick a point in the segment\n",
        "###for each transcript:\n",
        "#####for each exon in the transcript:\n",
        "#######if it is between the endpoints of the exon:\n",
        "#########exon+=1 (it is an exon for this transcript)\n",
        "#######else\n",
        "#########if it is between the endpoints of the transcript:\n",
        "###########intron+=1 (it is an intron for this transcript)\n",
        "\n",
        "#note: this no longer fully reflects the below code"
      ],
      "execution_count": null,
      "outputs": []
    },
    {
      "cell_type": "code",
      "metadata": {
        "id": "cr9C4FIVOYGF",
        "colab_type": "code",
        "colab": {
          "base_uri": "https://localhost:8080/",
          "height": 187
        },
        "outputId": "4e7212f3-56e6-47e0-d44a-fc3894e580ca"
      },
      "source": [
        "for x in segments_list:\n",
        "  point = x[0] + 1\n",
        "  #print(point)\n",
        "  for y in transcripts_list:\n",
        "    exon = False\n",
        "    for j in range(2, len(y)):\n",
        "      if (y[j][0] < point) and (point < y[j][1]): #exon\n",
        "        if (len(y[j]) > 2 and y[j][2][0] < point) and (point < y[j][2][1]): #CDS\n",
        "          x[2] += 1\n",
        "        elif (len(y[j]) > 2 and y[j][2][0] > point): #start UTR, since the segment is part of the exon but before the CDS\n",
        "          x[3] += 1\n",
        "        else: #end UTR\n",
        "          x[4] += 1\n",
        "        exon = True\n",
        "        #print(\"point \" + str(point) + \" is in an exon when j = \" + str(j))\n",
        "    if not exon and (y[0] < point) and (point < y[1]): #intron\n",
        "      x[5] += 1\n",
        "      #print(\"point \" + str(point) + \" is in an intron.\")\n",
        "segments_list"
      ],
      "execution_count": null,
      "outputs": [
        {
          "output_type": "execute_result",
          "data": {
            "text/plain": [
              "[[65419, 65433, 0, 0, 1, 0, 0, 0, 0, 0],\n",
              " [65433, 65520, 0, 0, 0, 1, 0, 0, 0, 0],\n",
              " [65520, 65565, 0, 1, 0, 0, 0, 0, 0, 0],\n",
              " [65565, 65573, 1, 0, 0, 0, 0, 0, 0, 0],\n",
              " [65573, 69037, 0, 0, 0, 1, 0, 0, 0, 0],\n",
              " [69037, 69055, 1, 0, 0, 0, 0, 0, 0, 0],\n",
              " [69055, 69091, 1, 1, 0, 0, 0, 0, 0, 0],\n",
              " [69091, 70005, 2, 0, 0, 0, 0, 0, 0, 0],\n",
              " [70005, 70108, 0, 0, 2, 0, 0, 0, 0, 0],\n",
              " [70108, 71585, 0, 0, 1, 0, 0, 0, 0, 0]]"
            ]
          },
          "metadata": {
            "tags": []
          },
          "execution_count": 7
        }
      ]
    },
    {
      "cell_type": "code",
      "metadata": {
        "id": "6jeTncrCO_Gr",
        "colab_type": "code",
        "colab": {
          "base_uri": "https://localhost:8080/",
          "height": 187
        },
        "outputId": "8160242f-b63a-44e5-dad2-21dae735bb1a"
      },
      "source": [
        "for x in segments_list:\n",
        "  x[6] = x[2] / (x[2] + x[3] + x[4] + x[5])\n",
        "  x[7] = x[3] / (x[2] + x[3] + x[4] + x[5])\n",
        "  x[8] = x[4] / (x[2] + x[3] + x[4] + x[5])\n",
        "  x[9] = x[5] / (x[2] + x[3] + x[4] + x[5])\n",
        "segments_list"
      ],
      "execution_count": null,
      "outputs": [
        {
          "output_type": "execute_result",
          "data": {
            "text/plain": [
              "[[65419, 65433, 0, 0, 1, 0, 0.0, 0.0, 1.0, 0.0],\n",
              " [65433, 65520, 0, 0, 0, 1, 0.0, 0.0, 0.0, 1.0],\n",
              " [65520, 65565, 0, 1, 0, 0, 0.0, 1.0, 0.0, 0.0],\n",
              " [65565, 65573, 1, 0, 0, 0, 1.0, 0.0, 0.0, 0.0],\n",
              " [65573, 69037, 0, 0, 0, 1, 0.0, 0.0, 0.0, 1.0],\n",
              " [69037, 69055, 1, 0, 0, 0, 1.0, 0.0, 0.0, 0.0],\n",
              " [69055, 69091, 1, 1, 0, 0, 0.5, 0.5, 0.0, 0.0],\n",
              " [69091, 70005, 2, 0, 0, 0, 1.0, 0.0, 0.0, 0.0],\n",
              " [70005, 70108, 0, 0, 2, 0, 0.0, 0.0, 1.0, 0.0],\n",
              " [70108, 71585, 0, 0, 1, 0, 0.0, 0.0, 1.0, 0.0]]"
            ]
          },
          "metadata": {
            "tags": []
          },
          "execution_count": 8
        }
      ]
    },
    {
      "cell_type": "code",
      "metadata": {
        "id": "bd895LmuxEu3",
        "colab_type": "code",
        "colab": {}
      },
      "source": [
        ""
      ],
      "execution_count": null,
      "outputs": []
    },
    {
      "cell_type": "code",
      "metadata": {
        "id": "PyXuyHm-xFyW",
        "colab_type": "code",
        "colab": {
          "base_uri": "https://localhost:8080/",
          "height": 187
        },
        "outputId": "ff83f160-b3f3-49a6-f923-a5a1f1ba705e"
      },
      "source": [
        "segments_list = [[65419, 65433, 0, 0, 1, 0, 0.0, 0.0, 1.0, 0.0], [65433, 65520, 0, 0, 0, 1, 0.0, 0.0, 0.0, 1.0], [65520, 65565, 0, 1, 0, 0, 0.0, 1.0, 0.0, 0.0], [65565, 65573, 1, 0, 0, 0, 1.0, 0.0, 0.0, 0.0], [65573, 69037, 0, 0, 0, 1, 0.0, 0.0, 0.0, 1.0], [69037, 69055, 1, 0, 0, 0, 1.0, 0.0, 0.0, 0.0], [69055, 69091, 1, 1, 0, 0, 0.5, 0.5, 0.0, 0.0], [69091, 70005, 2, 0, 0, 0, 1.0, 0.0, 0.0, 0.0], [70005, 70108, 0, 0, 2, 0, 0.0, 0.0, 1.0, 0.0], [70108, 71585, 0, 0, 1, 0, 0.0, 0.0, 1.0, 0.0]]\n",
        "segments_list"
      ],
      "execution_count": null,
      "outputs": [
        {
          "output_type": "execute_result",
          "data": {
            "text/plain": [
              "[[65419, 65433, 0, 0, 1, 0, 0.0, 0.0, 1.0, 0.0],\n",
              " [65433, 65520, 0, 0, 0, 1, 0.0, 0.0, 0.0, 1.0],\n",
              " [65520, 65565, 0, 1, 0, 0, 0.0, 1.0, 0.0, 0.0],\n",
              " [65565, 65573, 1, 0, 0, 0, 1.0, 0.0, 0.0, 0.0],\n",
              " [65573, 69037, 0, 0, 0, 1, 0.0, 0.0, 0.0, 1.0],\n",
              " [69037, 69055, 1, 0, 0, 0, 1.0, 0.0, 0.0, 0.0],\n",
              " [69055, 69091, 1, 1, 0, 0, 0.5, 0.5, 0.0, 0.0],\n",
              " [69091, 70005, 2, 0, 0, 0, 1.0, 0.0, 0.0, 0.0],\n",
              " [70005, 70108, 0, 0, 2, 0, 0.0, 0.0, 1.0, 0.0],\n",
              " [70108, 71585, 0, 0, 1, 0, 0.0, 0.0, 1.0, 0.0]]"
            ]
          },
          "metadata": {
            "tags": []
          },
          "execution_count": 2
        }
      ]
    },
    {
      "cell_type": "code",
      "metadata": {
        "id": "cVQtNESZxSUf",
        "colab_type": "code",
        "colab": {
          "resources": {
            "http://localhost:8080/nbextensions/google.colab/files.js": {
              "data": "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",
              "ok": true,
              "headers": [
                [
                  "content-type",
                  "application/javascript"
                ]
              ],
              "status": 200,
              "status_text": ""
            }
          },
          "base_uri": "https://localhost:8080/",
          "height": 379
        },
        "outputId": "650ec112-5a39-4c03-cbda-a8c1eece5ee5"
      },
      "source": [
        "from google.colab import files\n",
        "files.upload() #pcg_windows_sorted_200.bed and pcg_windows_sorted_rem-not200.bed"
      ],
      "execution_count": null,
      "outputs": [
        {
          "output_type": "display_data",
          "data": {
            "text/html": [
              "\n",
              "     <input type=\"file\" id=\"files-f74d0c9e-fe45-4f76-ab47-1948aa9c3dd3\" name=\"files[]\" multiple disabled\n",
              "        style=\"border:none\" />\n",
              "     <output id=\"result-f74d0c9e-fe45-4f76-ab47-1948aa9c3dd3\">\n",
              "      Upload widget is only available when the cell has been executed in the\n",
              "      current browser session. Please rerun this cell to enable.\n",
              "      </output>\n",
              "      <script src=\"/nbextensions/google.colab/files.js\"></script> "
            ],
            "text/plain": [
              "<IPython.core.display.HTML object>"
            ]
          },
          "metadata": {
            "tags": []
          }
        },
        {
          "output_type": "stream",
          "text": [
            "Saving pcg_windows_sorted_rem-not200.bed to pcg_windows_sorted_rem-not200.bed\n"
          ],
          "name": "stdout"
        },
        {
          "output_type": "error",
          "ename": "KeyboardInterrupt",
          "evalue": "ignored",
          "traceback": [
            "\u001b[0;31m---------------------------------------------------------------------------\u001b[0m",
            "\u001b[0;31mKeyboardInterrupt\u001b[0m                         Traceback (most recent call last)",
            "\u001b[0;32m<ipython-input-12-50b4c1772277>\u001b[0m in \u001b[0;36m<module>\u001b[0;34m()\u001b[0m\n\u001b[1;32m      1\u001b[0m \u001b[0;32mfrom\u001b[0m \u001b[0mgoogle\u001b[0m\u001b[0;34m.\u001b[0m\u001b[0mcolab\u001b[0m \u001b[0;32mimport\u001b[0m \u001b[0mfiles\u001b[0m\u001b[0;34m\u001b[0m\u001b[0;34m\u001b[0m\u001b[0m\n\u001b[0;32m----> 2\u001b[0;31m \u001b[0mfiles\u001b[0m\u001b[0;34m.\u001b[0m\u001b[0mupload\u001b[0m\u001b[0;34m(\u001b[0m\u001b[0;34m)\u001b[0m \u001b[0;31m#pcg_windows_sorted_200.bed and pcg_windows_sorted_rem-not200.bed\u001b[0m\u001b[0;34m\u001b[0m\u001b[0;34m\u001b[0m\u001b[0m\n\u001b[0m",
            "\u001b[0;32m/usr/local/lib/python3.6/dist-packages/google/colab/files.py\u001b[0m in \u001b[0;36mupload\u001b[0;34m()\u001b[0m\n\u001b[1;32m     75\u001b[0m     result = _output.eval_js(\n\u001b[1;32m     76\u001b[0m         'google.colab._files._uploadFilesContinue(\"{output_id}\")'.format(\n\u001b[0;32m---> 77\u001b[0;31m             output_id=output_id))\n\u001b[0m\u001b[1;32m     78\u001b[0m     \u001b[0;32mif\u001b[0m \u001b[0mresult\u001b[0m\u001b[0;34m[\u001b[0m\u001b[0;34m'action'\u001b[0m\u001b[0;34m]\u001b[0m \u001b[0;34m!=\u001b[0m \u001b[0;34m'append'\u001b[0m\u001b[0;34m:\u001b[0m\u001b[0;34m\u001b[0m\u001b[0;34m\u001b[0m\u001b[0m\n\u001b[1;32m     79\u001b[0m       \u001b[0;31m# JS side uses a generator of promises to process all of the files- some\u001b[0m\u001b[0;34m\u001b[0m\u001b[0;34m\u001b[0m\u001b[0;34m\u001b[0m\u001b[0m\n",
            "\u001b[0;32m/usr/local/lib/python3.6/dist-packages/google/colab/output/_js.py\u001b[0m in \u001b[0;36meval_js\u001b[0;34m(script, ignore_result)\u001b[0m\n\u001b[1;32m     37\u001b[0m   \u001b[0;32mif\u001b[0m \u001b[0mignore_result\u001b[0m\u001b[0;34m:\u001b[0m\u001b[0;34m\u001b[0m\u001b[0;34m\u001b[0m\u001b[0m\n\u001b[1;32m     38\u001b[0m     \u001b[0;32mreturn\u001b[0m\u001b[0;34m\u001b[0m\u001b[0;34m\u001b[0m\u001b[0m\n\u001b[0;32m---> 39\u001b[0;31m   \u001b[0;32mreturn\u001b[0m \u001b[0m_message\u001b[0m\u001b[0;34m.\u001b[0m\u001b[0mread_reply_from_input\u001b[0m\u001b[0;34m(\u001b[0m\u001b[0mrequest_id\u001b[0m\u001b[0;34m)\u001b[0m\u001b[0;34m\u001b[0m\u001b[0;34m\u001b[0m\u001b[0m\n\u001b[0m\u001b[1;32m     40\u001b[0m \u001b[0;34m\u001b[0m\u001b[0m\n\u001b[1;32m     41\u001b[0m \u001b[0;34m\u001b[0m\u001b[0m\n",
            "\u001b[0;32m/usr/local/lib/python3.6/dist-packages/google/colab/_message.py\u001b[0m in \u001b[0;36mread_reply_from_input\u001b[0;34m(message_id, timeout_sec)\u001b[0m\n\u001b[1;32m     99\u001b[0m     \u001b[0mreply\u001b[0m \u001b[0;34m=\u001b[0m \u001b[0m_read_next_input_message\u001b[0m\u001b[0;34m(\u001b[0m\u001b[0;34m)\u001b[0m\u001b[0;34m\u001b[0m\u001b[0;34m\u001b[0m\u001b[0m\n\u001b[1;32m    100\u001b[0m     \u001b[0;32mif\u001b[0m \u001b[0mreply\u001b[0m \u001b[0;34m==\u001b[0m \u001b[0m_NOT_READY\u001b[0m \u001b[0;32mor\u001b[0m \u001b[0;32mnot\u001b[0m \u001b[0misinstance\u001b[0m\u001b[0;34m(\u001b[0m\u001b[0mreply\u001b[0m\u001b[0;34m,\u001b[0m \u001b[0mdict\u001b[0m\u001b[0;34m)\u001b[0m\u001b[0;34m:\u001b[0m\u001b[0;34m\u001b[0m\u001b[0;34m\u001b[0m\u001b[0m\n\u001b[0;32m--> 101\u001b[0;31m       \u001b[0mtime\u001b[0m\u001b[0;34m.\u001b[0m\u001b[0msleep\u001b[0m\u001b[0;34m(\u001b[0m\u001b[0;36m0.025\u001b[0m\u001b[0;34m)\u001b[0m\u001b[0;34m\u001b[0m\u001b[0;34m\u001b[0m\u001b[0m\n\u001b[0m\u001b[1;32m    102\u001b[0m       \u001b[0;32mcontinue\u001b[0m\u001b[0;34m\u001b[0m\u001b[0;34m\u001b[0m\u001b[0m\n\u001b[1;32m    103\u001b[0m     if (reply.get('type') == 'colab_reply' and\n",
            "\u001b[0;31mKeyboardInterrupt\u001b[0m: "
          ]
        }
      ]
    },
    {
      "cell_type": "code",
      "metadata": {
        "id": "RuR9YRZ8xztj",
        "colab_type": "code",
        "colab": {
          "base_uri": "https://localhost:8080/",
          "height": 1000
        },
        "outputId": "c6a0cc9e-f7ba-4c99-815e-f7e646a76e88"
      },
      "source": [
        "!cat pcg_windows_sorted_200.bed | head -n 62"
      ],
      "execution_count": null,
      "outputs": [
        {
          "output_type": "stream",
          "text": [
            "chr1\t65418\t65618\n",
            "chr1\t65518\t65718\n",
            "chr1\t65618\t65818\n",
            "chr1\t65718\t65918\n",
            "chr1\t65818\t66018\n",
            "chr1\t65918\t66118\n",
            "chr1\t66018\t66218\n",
            "chr1\t66118\t66318\n",
            "chr1\t66218\t66418\n",
            "chr1\t66318\t66518\n",
            "chr1\t66418\t66618\n",
            "chr1\t66518\t66718\n",
            "chr1\t66618\t66818\n",
            "chr1\t66718\t66918\n",
            "chr1\t66818\t67018\n",
            "chr1\t66918\t67118\n",
            "chr1\t67018\t67218\n",
            "chr1\t67118\t67318\n",
            "chr1\t67218\t67418\n",
            "chr1\t67318\t67518\n",
            "chr1\t67418\t67618\n",
            "chr1\t67518\t67718\n",
            "chr1\t67618\t67818\n",
            "chr1\t67718\t67918\n",
            "chr1\t67818\t68018\n",
            "chr1\t67918\t68118\n",
            "chr1\t68018\t68218\n",
            "chr1\t68118\t68318\n",
            "chr1\t68218\t68418\n",
            "chr1\t68318\t68518\n",
            "chr1\t68418\t68618\n",
            "chr1\t68518\t68718\n",
            "chr1\t68618\t68818\n",
            "chr1\t68718\t68918\n",
            "chr1\t68818\t69018\n",
            "chr1\t68918\t69118\n",
            "chr1\t69018\t69218\n",
            "chr1\t69118\t69318\n",
            "chr1\t69218\t69418\n",
            "chr1\t69318\t69518\n",
            "chr1\t69418\t69618\n",
            "chr1\t69518\t69718\n",
            "chr1\t69618\t69818\n",
            "chr1\t69718\t69918\n",
            "chr1\t69818\t70018\n",
            "chr1\t69918\t70118\n",
            "chr1\t70018\t70218\n",
            "chr1\t70118\t70318\n",
            "chr1\t70218\t70418\n",
            "chr1\t70318\t70518\n",
            "chr1\t70418\t70618\n",
            "chr1\t70518\t70718\n",
            "chr1\t70618\t70818\n",
            "chr1\t70718\t70918\n",
            "chr1\t70818\t71018\n",
            "chr1\t70918\t71118\n",
            "chr1\t71018\t71218\n",
            "chr1\t71118\t71318\n",
            "chr1\t71218\t71418\n",
            "chr1\t71318\t71518\n",
            "chr1\t71418\t71618\n",
            "chr1\t71518\t71718\n"
          ],
          "name": "stdout"
        }
      ]
    },
    {
      "cell_type": "code",
      "metadata": {
        "id": "Ns1oC4ziyJ1i",
        "colab_type": "code",
        "colab": {
          "base_uri": "https://localhost:8080/",
          "height": 1000
        },
        "outputId": "0ec8a0b4-e9de-4c93-b09f-dd8445665335"
      },
      "source": [
        "!cat pcg_windows_sorted_rem-not200.bed | head -n 60"
      ],
      "execution_count": null,
      "outputs": [
        {
          "output_type": "stream",
          "text": [
            " chr1\t65418\t65618\n",
            "chr1\t65518\t65718\n",
            "chr1\t65618\t65818\n",
            "chr1\t65718\t65918\n",
            "chr1\t65818\t66018\n",
            "chr1\t65918\t66118\n",
            "chr1\t66018\t66218\n",
            "chr1\t66118\t66318\n",
            "chr1\t66218\t66418\n",
            "chr1\t66318\t66518\n",
            "chr1\t66418\t66618\n",
            "chr1\t66518\t66718\n",
            "chr1\t66618\t66818\n",
            "chr1\t66718\t66918\n",
            "chr1\t66818\t67018\n",
            "chr1\t66918\t67118\n",
            "chr1\t67018\t67218\n",
            "chr1\t67118\t67318\n",
            "chr1\t67218\t67418\n",
            "chr1\t67318\t67518\n",
            "chr1\t67418\t67618\n",
            "chr1\t67518\t67718\n",
            "chr1\t67618\t67818\n",
            "chr1\t67718\t67918\n",
            "chr1\t67818\t68018\n",
            "chr1\t67918\t68118\n",
            "chr1\t68018\t68218\n",
            "chr1\t68118\t68318\n",
            "chr1\t68218\t68418\n",
            "chr1\t68318\t68518\n",
            "chr1\t68418\t68618\n",
            "chr1\t68518\t68718\n",
            "chr1\t68618\t68818\n",
            "chr1\t68718\t68918\n",
            "chr1\t68818\t69018\n",
            "chr1\t68918\t69118\n",
            "chr1\t69018\t69218\n",
            "chr1\t69118\t69318\n",
            "chr1\t69218\t69418\n",
            "chr1\t69318\t69518\n",
            "chr1\t69418\t69618\n",
            "chr1\t69518\t69718\n",
            "chr1\t69618\t69818\n",
            "chr1\t69718\t69918\n",
            "chr1\t69818\t70018\n",
            "chr1\t69918\t70118\n",
            "chr1\t70018\t70218\n",
            "chr1\t70118\t70318\n",
            "chr1\t70218\t70418\n",
            "chr1\t70318\t70518\n",
            "chr1\t70418\t70618\n",
            "chr1\t70518\t70718\n",
            "chr1\t70618\t70818\n",
            "chr1\t70718\t70918\n",
            "chr1\t70818\t71018\n",
            "chr1\t70918\t71118\n",
            "chr1\t71018\t71218\n",
            "chr1\t71118\t71318\n",
            "chr1\t71218\t71418\n",
            "chr1\t71318\t71518\n"
          ],
          "name": "stdout"
        }
      ]
    },
    {
      "cell_type": "code",
      "metadata": {
        "id": "H6ofoSYe0AhU",
        "colab_type": "code",
        "colab": {}
      },
      "source": [
        "#all of the above was in case I need the files to use in Python\n",
        "#now I realize I actually want to convert segments_list into a bed file, which will allow me to use awk\n",
        "#maybe it would've been faster to use awk to do the whole for loop thing? then I wouldn't have to convert to bed\n",
        "#but how do I do that?"
      ],
      "execution_count": null,
      "outputs": []
    },
    {
      "cell_type": "code",
      "metadata": {
        "id": "yRaigNzr4M_z",
        "colab_type": "code",
        "colab": {}
      },
      "source": [
        "#I forgot to subtract 1 from the start points in segments_list (1-indexed vs 0-indexed).\n",
        "#That'll be an issue here."
      ],
      "execution_count": null,
      "outputs": []
    },
    {
      "cell_type": "code",
      "metadata": {
        "id": "0c20wxBu0chv",
        "colab_type": "code",
        "colab": {}
      },
      "source": [
        "#option 1 - use Python for loops\n",
        "\n",
        "#for window in windows_list #Python 2D list version of one of the above bed files\n",
        "###for segment in segments_list:\n",
        "#####if segment endpoint is greater than: #too early\n",
        "#######continue\n",
        "#####if segment is too late: #too late\n",
        "#######break\n",
        "#####"
      ],
      "execution_count": null,
      "outputs": []
    },
    {
      "cell_type": "code",
      "metadata": {
        "id": "-iFR7Jqu15cM",
        "colab_type": "code",
        "colab": {}
      },
      "source": [
        "#option 2 - use awk\n",
        "\n",
        "#awk windows bed file\n",
        "###"
      ],
      "execution_count": null,
      "outputs": []
    }
  ]
}