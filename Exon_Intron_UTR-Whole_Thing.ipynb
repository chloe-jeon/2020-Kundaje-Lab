{
 "cells": [
  {
   "cell_type": "code",
   "execution_count": null,
   "metadata": {
    "colab": {
     "base_uri": "https://localhost:8080/",
     "height": 170
    },
    "colab_type": "code",
    "id": "t4RUJkpSIJGf",
    "outputId": "e876bc4c-c799-42e1-95f0-6f2485b62f9d",
    "scrolled": false
   },
   "outputs": [],
   "source": [
    "!cat protein_coding_transcripts.bed | head"
   ]
  },
  {
   "cell_type": "code",
   "execution_count": null,
   "metadata": {},
   "outputs": [],
   "source": [
    "f = open('protein_coding_transcripts.bed')\n",
    "protein_coding_transcripts = f.readlines()\n",
    "protein_coding_transcripts"
   ]
  },
  {
   "cell_type": "code",
   "execution_count": null,
   "metadata": {},
   "outputs": [],
   "source": [
    "#instead of making a list, make transcript, exon, UTR, and CDS class.\n",
    "#To-do: chromosomes"
   ]
  },
  {
   "cell_type": "code",
   "execution_count": 1,
   "metadata": {},
   "outputs": [],
   "source": [
    "class Transcript:\n",
    "    exons = []\n",
    "    def __init__(self, s, e, posneg): #int, int, string\n",
    "        self.start = s #int\n",
    "        self.end = e #int\n",
    "        self.strand = (posneg == \"+\") #boolean\n",
    "    def show(self):\n",
    "        show = str(\"transcript: \")\n",
    "        show += str(self.start) + \" \"    #start position\n",
    "        show += str(self.end) + \" \"      #end position\n",
    "        show += str(self.strand) + \" \"   #positive or negative strand\n",
    "        show += str(len(self.exons))     #how many exons\n",
    "        print(show)\n",
    "    def add_exon(self, s, e):\n",
    "        self.exons.append(Exon(s, e, self.strand))\n",
    "    def add_cds(self, s, e, exon_pos, cdsOrUtr):\n",
    "        self.exons[exon_pos].add_cds(s, e, cdsOrUtr)"
   ]
  },
  {
   "cell_type": "code",
   "execution_count": 2,
   "metadata": {},
   "outputs": [],
   "source": [
    "class Exon:\n",
    "    cds_utr = []\n",
    "    def __init__(self, s, e, trnscrpt_strand): #int, int, boolean\n",
    "        self.start = s #int\n",
    "        self.end = e #int\n",
    "        self.strand = trnscrpt_strand #boolean\n",
    "    def show(self):\n",
    "        show = str(\"exon: \")\n",
    "        show += str(self.start) + \" \"    #start position\n",
    "        show += str(self.end) + \" \"      #end position\n",
    "        show += str(self.strand) + \" \"   #positive or negative strand\n",
    "        show += str(len(self.cds_utr))   #how many CDSs and UTRs\n",
    "        print(show)\n",
    "    def add_cds(self, s, e):\n",
    "        self.exons.append(Cds(s, e, self.strand))\n",
    "    def add_utr(self, s, e, is_start):\n",
    "        self.exons.append(Utr(s, e, self.strand, is_start)) #start = UTR index < CDS index (5' if pos, 3' if neg)"
   ]
  },
  {
   "cell_type": "code",
   "execution_count": 3,
   "metadata": {},
   "outputs": [],
   "source": [
    "class Cds:\n",
    "    def __init__(self, s, e, exon_strand): #int, int, boolean\n",
    "        self.start = s #int\n",
    "        self.end = e #int\n",
    "        self.strand = exon_strand #boolean\n",
    "    def show(self):\n",
    "        show = str(\"CDS: \")\n",
    "        show = str(self.start) + \" \"     #start position\n",
    "        show += str(self.end) + \" \"      #end position\n",
    "        show += str(self.strand)         #positive or negative strand\n",
    "        print(show)"
   ]
  },
  {
   "cell_type": "code",
   "execution_count": 4,
   "metadata": {},
   "outputs": [],
   "source": [
    "class Utr:\n",
    "    def __init__(self, s, e, exon_strand, is_start): #int, int, boolean, boolean\n",
    "        self.start = s #int\n",
    "        self.end = e #int\n",
    "        self.strand = exon_strand #boolean\n",
    "        self.is_five = is_start #True = 5' UTR, False = 3' UTR\n",
    "        if (not self.strand): #a.k.a. if it is on the negative strand\n",
    "            self.is_five = not self.is_five\n",
    "    def show(self):\n",
    "        if(self.is_five):\n",
    "            show = str(\"5' \")\n",
    "        else:\n",
    "            show = str(\"3' \")\n",
    "        show += str(\"UTR: \")\n",
    "        show += str(self.start) + \" \"    #start position\n",
    "        show += str(self.end) + \" \"      #end position\n",
    "        show += str(self.strand) + \" \"   #positive or negative strand\n",
    "        print(show)"
   ]
  },
  {
   "cell_type": "code",
   "execution_count": 6,
   "metadata": {},
   "outputs": [
    {
     "name": "stdout",
     "output_type": "stream",
     "text": [
      "transcript: 1 100 True 4\n",
      "transcript: 30 600 False 4\n",
      "<__main__.Transcript object at 0x7fc524710950>\n",
      "<__main__.Transcript object at 0x7fc524710910>\n",
      "\n",
      "-------------\n",
      "\n",
      "transcript: 1 100 True 8\n",
      "transcript: 30 600 False 8\n",
      "<__main__.Exon object at 0x7fc524710650>\n",
      "exon: 2 10 True 0\n",
      "<__main__.Exon object at 0x7fc524710650>\n",
      "exon: 2 10 True 0\n",
      "<__main__.Exon object at 0x7fc5247106d0>\n",
      "exon: 21 22 True 0\n",
      "<__main__.Exon object at 0x7fc5247106d0>\n",
      "exon: 21 22 True 0\n",
      "<__main__.Exon object at 0x7fc524710710>\n",
      "exon: 40 50 True 0\n",
      "<__main__.Exon object at 0x7fc524710710>\n",
      "exon: 40 50 True 0\n"
     ]
    }
   ],
   "source": [
    "example_transcript1 = Transcript(1, 100, \"+\")\n",
    "example_transcript2 = Transcript(30, 600, \"-\")\n",
    "\n",
    "example_transcript1.show()\n",
    "example_transcript2.show()\n",
    "\n",
    "print(example_transcript1)\n",
    "print(example_transcript2)\n",
    "\n",
    "print()\n",
    "print(\"-------------\")\n",
    "print()\n",
    "\n",
    "example_transcript1.add_exon(2, 10)\n",
    "example_transcript1.add_exon(21, 22)\n",
    "example_transcript1.add_exon(40, 50)\n",
    "example_transcript2.add_exon(99, 580)\n",
    "\n",
    "example_transcript1.show()\n",
    "example_transcript2.show()\n",
    "\n",
    "for i in range(3):\n",
    "    print(example_transcript1.exons[i])\n",
    "    example_transcript1.exons[i].show()\n",
    "    print(example_transcript2.exons[i])\n",
    "    example_transcript2.exons[i].show()"
   ]
  },
  {
   "cell_type": "code",
   "execution_count": null,
   "metadata": {},
   "outputs": [],
   "source": []
  },
  {
   "cell_type": "code",
   "execution_count": null,
   "metadata": {},
   "outputs": [],
   "source": [
    "#make a 3D nested list\n",
    "#[[65419, 7185, [65419, 65433], [65520, 65573], [69037, 71585]], [69055, 70108, [69055, 70108]]]\n",
    "#[transcript1   exon1---------  exon2---------  exon3---------|  transcript2    exon1---------|]\n",
    "\n",
    "transcripts_list = []\n",
    "tlist_index = -1\n",
    "for x in protein_coding_transcripts:\n",
    "  temp = x.split()\n",
    "  if (temp[1] == 'transcript'):\n",
    "    tlist_index += 1\n",
    "    transcripts_list.append([int(temp[2]), int(temp[3])])\n",
    "  elif (temp[1] == 'exon'):\n",
    "    transcripts_list[tlist_index].append([int(temp[2]), int(temp[3])])\n",
    "transcripts_list"
   ]
  },
  {
   "cell_type": "code",
   "execution_count": null,
   "metadata": {
    "colab": {
     "base_uri": "https://localhost:8080/",
     "height": 323
    },
    "colab_type": "code",
    "id": "Do3P1talOGFQ",
    "outputId": "28fceba3-7439-4e03-91e1-1c49210b9b81"
   },
   "outputs": [],
   "source": [
    "endpoints = []\n",
    "for x in protein_coding_transcripts:\n",
    "  endpoints.append(int(x.split()[2]))\n",
    "  endpoints.append(int(x.split()[3]))\n",
    "endpoints"
   ]
  },
  {
   "cell_type": "code",
   "execution_count": null,
   "metadata": {
    "colab": {
     "base_uri": "https://localhost:8080/",
     "height": 34
    },
    "colab_type": "code",
    "id": "Nest4VMFOOXX",
    "outputId": "ca36b889-a10c-47fd-9069-8751d6eef1a3"
   },
   "outputs": [],
   "source": [
    "endpoints = list(dict.fromkeys(endpoints))\n",
    "endpoints.sort()\n",
    "endpoints"
   ]
  },
  {
   "cell_type": "code",
   "execution_count": null,
   "metadata": {},
   "outputs": [],
   "source": [
    "#OMG I JUST REALIZED THAT THE CELL BELOW IGNORES CHROMOSOMES!!!"
   ]
  },
  {
   "cell_type": "code",
   "execution_count": null,
   "metadata": {
    "colab": {
     "base_uri": "https://localhost:8080/",
     "height": 187
    },
    "colab_type": "code",
    "id": "RuWFH4J1OUMy",
    "outputId": "c895e687-043b-48db-cc3b-55f0cad0edcf"
   },
   "outputs": [],
   "source": [
    "#make a list with segment start point, segment end point, \n",
    "#number CDS, number start UTR, number end UTR, number intron, \n",
    "#percent CDS, percent start UTR, percent end UTR, percent intron\n",
    "#note: number columns are 0, percent columns should be blank for now (placeholder 0)\n",
    "#note: will turn this into a bed file later\n",
    "\n",
    "segments_list = []\n",
    "\n",
    "for i in range(int(len(endpoints) -1)):\n",
    "  segments_list.append([endpoints[i], endpoints[i + 1], 0, 0, 0, 0, 0, 0, 0, 0])\n",
    "segments_list"
   ]
  },
  {
   "cell_type": "code",
   "execution_count": null,
   "metadata": {
    "colab": {},
    "colab_type": "code",
    "id": "xYXiv0pOOVaM"
   },
   "outputs": [],
   "source": [
    "#for each segment (a.k.a. item in list from previous cell):\n",
    "###pick a point in the segment\n",
    "###for each transcript:\n",
    "#####for each exon in the transcript:\n",
    "#######if it is between the endpoints of the exon:\n",
    "#########exon+=1 (it is an exon for this transcript)\n",
    "#######else\n",
    "#########if it is between the endpoints of the transcript:\n",
    "###########intron+=1 (it is an intron for this transcript)\n",
    "\n",
    "#note: this no longer fully reflects the below code"
   ]
  },
  {
   "cell_type": "code",
   "execution_count": null,
   "metadata": {},
   "outputs": [],
   "source": [
    "import time"
   ]
  },
  {
   "cell_type": "code",
   "execution_count": null,
   "metadata": {},
   "outputs": [],
   "source": [
    "#The cell below takes too long to run. I calculated it to take rougghly 40 hours\n",
    "#(I ran it for 100 lines and found how many lines total)"
   ]
  },
  {
   "cell_type": "code",
   "execution_count": null,
   "metadata": {
    "colab": {
     "base_uri": "https://localhost:8080/",
     "height": 187
    },
    "colab_type": "code",
    "id": "cr9C4FIVOYGF",
    "outputId": "4e7212f3-56e6-47e0-d44a-fc3894e580ca"
   },
   "outputs": [],
   "source": [
    "start = time.time()\n",
    "\n",
    "for x_ind in range(len(segments_list)):\n",
    "    x = segments_list[x_ind]\n",
    "    point = x[0] + 1\n",
    "    #print(point)\n",
    "    for y in transcripts_list:\n",
    "        exon = False\n",
    "        for j in range(2, len(y)):\n",
    "            if (y[j][0] < point) and (point < y[j][1]): #exon\n",
    "                if (len(y[j]) > 2 and y[j][2][0] < point) and (point < y[j][2][1]): #CDS\n",
    "                    x[2] += 1\n",
    "                elif (len(y[j]) > 2 and y[j][2][0] > point): #start UTR, since the segment is part of the exon but before the CDS\n",
    "                    x[3] += 1\n",
    "                else: #end UTR\n",
    "                    x[4] += 1\n",
    "                    exon = True\n",
    "                    #print(\"point \" + str(point) + \" is in an exon when j = \" + str(j))\n",
    "        if not exon and (y[0] < point) and (point < y[1]): #intron\n",
    "            x[5] += 1\n",
    "            #print(\"point \" + str(point) + \" is in an intron.\")\n",
    "    if (x_ind % 10 == 0): #checking to make sure it runs\n",
    "        print(x_ind)\n",
    "    if (x_ind == 100):\n",
    "        break\n",
    "\n",
    "print(time.time() - start)\n",
    "\n",
    "segments_list"
   ]
  },
  {
   "cell_type": "code",
   "execution_count": null,
   "metadata": {
    "colab": {
     "base_uri": "https://localhost:8080/",
     "height": 187
    },
    "colab_type": "code",
    "id": "6jeTncrCO_Gr",
    "outputId": "8160242f-b63a-44e5-dad2-21dae735bb1a"
   },
   "outputs": [],
   "source": [
    "for x in segments_list:\n",
    "    if ((x[2] + x[3] + x[4] + x[5]) == 0):\n",
    "        continue;\n",
    "    x[6] = x[2] / (x[2] + x[3] + x[4] + x[5])\n",
    "    x[7] = x[3] / (x[2] + x[3] + x[4] + x[5])\n",
    "    x[8] = x[4] / (x[2] + x[3] + x[4] + x[5])\n",
    "    x[9] = x[5] / (x[2] + x[3] + x[4] + x[5])\n",
    "segments_list"
   ]
  }
 ],
 "metadata": {
  "colab": {
   "name": "Exon_Intron_UTR-First_Gene.ipynb",
   "provenance": []
  },
  "kernelspec": {
   "display_name": "Python 3",
   "language": "python",
   "name": "python3"
  },
  "language_info": {
   "codemirror_mode": {
    "name": "ipython",
    "version": 3
   },
   "file_extension": ".py",
   "mimetype": "text/x-python",
   "name": "python",
   "nbconvert_exporter": "python",
   "pygments_lexer": "ipython3",
   "version": "3.7.7"
  }
 },
 "nbformat": 4,
 "nbformat_minor": 1
}
